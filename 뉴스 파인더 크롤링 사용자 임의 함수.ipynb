{
 "cells": [
  {
   "cell_type": "code",
   "execution_count": 2,
   "metadata": {
    "ExecuteTime": {
     "end_time": "2020-05-10T07:16:08.995147Z",
     "start_time": "2020-05-10T07:16:05.896431Z"
    }
   },
   "outputs": [],
   "source": [
    "from pykrx import stock\n",
    "from selenium import webdriver\n",
    "import bs4\n",
    "import datetime\n",
    "import pandas as pd"
   ]
  },
  {
   "cell_type": "code",
   "execution_count": 1,
   "metadata": {
    "ExecuteTime": {
     "end_time": "2020-05-10T06:44:01.866191Z",
     "start_time": "2020-05-10T06:44:01.831286Z"
    }
   },
   "outputs": [],
   "source": [
    "def news_finder(stock_list) : \n",
    "    \n",
    "    for stock_id in stock_list :\n",
    "        stock_name = stock.get_market_ticker_name(stock_id)\n",
    "        \n",
    "        # 네이버 금융 뉴스 섹션에 접속\n",
    "        driver = webdriver.Chrome(executable_path=\"chromedriver.exe\")\n",
    "        url = \"https://finance.naver.com/news/\"\n",
    "        driver.get(url)\n",
    "        \n",
    "        driver.find_element_by_xpath('//*[@id=\"newsMainTop\"]/div/div[2]/form/div/input').click() # 검색창 초기화\n",
    "        driver.find_element_by_xpath('//*[@id=\"newsMainTop\"]/div/div[2]/form/div/input').send_keys(stock_name) # 주식 이름 검색창에 입력\n",
    "        driver.find_element_by_xpath('//*[@id=\"newsMainTop\"]/div/div[2]/form/div/a').click() # 검색 아이콘 클릭해서 실행\n",
    "        \n",
    "        now = datetime.datetime.now()\n",
    "        today_date = str(now.strftime('%Y-%m-%d'))\n",
    "\n",
    "        result_url = driver.current_url\n",
    "        new_url = result_url + \"&sm=title.basic&pd=4&stDateStart=2018-01-01&stDateEnd=\" + today_date # 제목에서만 설정 & Start 날짜 직접 설정 가능!\n",
    "        driver.get(new_url)\n",
    "        \n",
    "        # 몇 페이지까지 존재하는지 알아보자.\n",
    "        bs_obj = bs4.BeautifulSoup(driver.page_source, \"html.parser\") # 뷰티풀숩 object 생성\n",
    "        last = bs_obj.find(\"td\", {\"class\" : \"pgRR\"})\n",
    "        a = last.find('a', href=True)\n",
    "        last_page_num = int(a['href'].split('page=')[1])\n",
    "        \n",
    "        # last_page_num 개의 페이지 URL을 pages라는 리스트에 담아보자.\n",
    "        page_numbering = list(range(1,last_page_num + 1))\n",
    "        pages = []\n",
    "        for i in range(1, last_page_num) :\n",
    "            pages.append(new_url + \"&page=\" + str(i))\n",
    "            \n",
    "        \n",
    "        # 빈 데이터프레임 생성 \n",
    "        df = pd.DataFrame(columns=(\"date\", \"title\", \"content\")) \n",
    "        \n",
    "        # 빈 데이터프레임에 크롤링한 기사 본문 내용들을 채워넣기\n",
    "        for page in pages : \n",
    "            driver.get(page)\n",
    "            bs_obj = bs4.BeautifulSoup(driver.page_source, \"html.parser\")\n",
    "\n",
    "            # 깔끔한 작업을 위해 필요한 영역만 남기고 나머지는 무시하자\n",
    "            news_list = bs_obj.find(\"dl\", {\"class\" : \"newsList\"})\n",
    "            news_titles_1 = news_list.find_all(\"dt\", {\"class\" : \"articleSubject\"}) \n",
    "            news_titles_2 = news_list.find_all(\"dd\", {\"class\" : \"articleSubject\"}) # 네이버 뉴스는 썸네일이 있는 뉴스와 없는 뉴스의 태그가 다르게 설정되어 있네요.\n",
    "            news_titles = news_titles_1 + news_titles_2 # 그래서 작업을 2번 한 후에 합치는 방식을 썼습니다.\n",
    "            del news_titles_1, news_titles_2 # 필요없는 변수 제거\n",
    "\n",
    "\n",
    "            for title in news_titles :\n",
    "                temp = title.find('a', href=True)\n",
    "                news_url = \"https://finance.naver.com\" + temp['href']\n",
    "                driver.get(news_url) # 개별 뉴스들을 클릭하는 동작을 실행시킨다.\n",
    "                bs_obj = bs4.BeautifulSoup(driver.page_source, \"html.parser\")\n",
    "\n",
    "                # 기사 제목 크롤링\n",
    "                title = driver.find_element_by_xpath('//*[@id=\"contentarea_left\"]/div[2]/div[1]/div[2]/h3').text\n",
    "\n",
    "                # 기사 업로드 날짜 크롤링\n",
    "                date = driver.find_element_by_xpath('//*[@id=\"contentarea_left\"]/div[2]/div[1]/div[2]/div/span').text\n",
    "\n",
    "                # 기사 본문 크롤링\n",
    "                content = driver.find_element_by_xpath('//*[@id=\"content\"]').text\n",
    "\n",
    "                df.loc[len(df)] = [date, title, content] # 빈 데이터프레임에 행 추가\n",
    "        \n",
    "        # id와 name이라는 column을 만들고 해당 값으로 동일하게 채워넣는다.\n",
    "        df['id'] = stock_id\n",
    "        df['name'] = stock_name     \n",
    "        \n",
    "        # 크롤링한 내용이 담겨 있는 데이터프레임을 CSV파일로 저장\n",
    "        file_name = stock_id + \"_\" + today_date + \".csv\"\n",
    "        df.to_csv(file_name, encoding='utf-8-sig')\n",
    "        \n",
    "    print(\"모든 작업이 종료되었습니다.\")"
   ]
  },
  {
   "cell_type": "code",
   "execution_count": null,
   "metadata": {},
   "outputs": [],
   "source": []
  }
 ],
 "metadata": {
  "kernelspec": {
   "display_name": "Python 3",
   "language": "python",
   "name": "python3"
  },
  "language_info": {
   "codemirror_mode": {
    "name": "ipython",
    "version": 3
   },
   "file_extension": ".py",
   "mimetype": "text/x-python",
   "name": "python",
   "nbconvert_exporter": "python",
   "pygments_lexer": "ipython3",
   "version": "3.7.4"
  },
  "toc": {
   "base_numbering": 1,
   "nav_menu": {},
   "number_sections": true,
   "sideBar": true,
   "skip_h1_title": false,
   "title_cell": "Table of Contents",
   "title_sidebar": "Contents",
   "toc_cell": false,
   "toc_position": {},
   "toc_section_display": true,
   "toc_window_display": false
  },
  "varInspector": {
   "cols": {
    "lenName": 16,
    "lenType": 16,
    "lenVar": 40
   },
   "kernels_config": {
    "python": {
     "delete_cmd_postfix": "",
     "delete_cmd_prefix": "del ",
     "library": "var_list.py",
     "varRefreshCmd": "print(var_dic_list())"
    },
    "r": {
     "delete_cmd_postfix": ") ",
     "delete_cmd_prefix": "rm(",
     "library": "var_list.r",
     "varRefreshCmd": "cat(var_dic_list()) "
    }
   },
   "types_to_exclude": [
    "module",
    "function",
    "builtin_function_or_method",
    "instance",
    "_Feature"
   ],
   "window_display": false
  }
 },
 "nbformat": 4,
 "nbformat_minor": 2
}
